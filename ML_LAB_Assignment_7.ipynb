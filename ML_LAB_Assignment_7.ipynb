{
 "cells": [
  {
   "cell_type": "code",
   "execution_count": 1,
   "id": "ae4c4601",
   "metadata": {},
   "outputs": [],
   "source": [
    "import pandas as pd\n",
    "from sklearn import svm\n",
    "from sklearn.model_selection import train_test_split"
   ]
  },
  {
   "cell_type": "code",
   "execution_count": null,
   "id": "1f52831d",
   "metadata": {},
   "outputs": [],
   "source": [
    "data= pd.read_csv(\"hdddata.csv\")\n",
    "data_cleaned = data.dropna(subset=['failure', 'smart_1_normalized','smart_3_normalized'])\n",
    "X = data_cleaned[['smart_3_normalized','smart_7_normalized' ]].values  # Features\n",
    "y = data_cleaned['failure'].values  # Target class labels\n",
    "\n",
    "X_train, X_test, y_train, y_test = train_test_split(X, y, test_size=0.2, random_state=42)\n",
    "\n",
    "# Create an instance of the SVM classifier\n",
    "clf = svm.SVC()\n",
    "\n",
    "# Fit the SVM classifier to the training data\n",
    "clf.fit(X_train, y_train)"
   ]
  },
  {
   "cell_type": "code",
   "execution_count": null,
   "id": "e0d5d3f7",
   "metadata": {},
   "outputs": [],
   "source": [
    "#A1\n",
    "# Get the support vectors\n",
    "support_vectors = clf.support_vectors_\n",
    "\n",
    "# Print the support vectors\n",
    "print(\"Support Vectors:\")\n",
    "print(support_vectors)"
   ]
  },
  {
   "cell_type": "code",
   "execution_count": null,
   "id": "880f840b",
   "metadata": {},
   "outputs": [],
   "source": [
    "#A2\n",
    "\n",
    "# Create an instance of the SVM classifier\n",
    "clf = svm.SVC()\n",
    "\n",
    "# Test the SVM on the test data\n",
    "clf.fit(X_train, y_train)  \n",
    "accuracy = clf.score(X_test, y_test)\n",
    "\n",
    "# Print the accuracy\n",
    "print(\"Accuracy:\", accuracy)\n",
    "\n",
    "# Create a test vector with 4 features\n",
    "test_vector = [1,2]  # Replace with your actual test vector\n",
    "predicted_class = clf.predict([test_vector])\n",
    "print(f\"Predicted class for the test vector: {predicted_class[0]}\")"
   ]
  },
  {
   "cell_type": "code",
   "execution_count": null,
   "id": "e99eae9c",
   "metadata": {},
   "outputs": [],
   "source": [
    "#A3\n",
    "\n",
    "# Predict class labels for the test set\n",
    "predicted_labels = clf.predict(X_test)\n",
    "\n",
    "# Analyze the output values\n",
    "for i, predicted_label in enumerate(predicted_labels):\n",
    "    actual_label = y_test[i]  # Actual class label for the i-th test sample\n",
    "    print(f\"Predicted: {predicted_label}, Actual: {actual_label}\")\n",
    "\n",
    "# Calculate accuracy manually\n",
    "correct_predictions = 0\n",
    "total_samples = len(y_test)\n",
    "\n",
    "for i in range(total_samples):\n",
    "    if predicted_labels[i] == y_test[i]:\n",
    "        correct_predictions += 1\n",
    "\n",
    "accuracy = correct_predictions / total_samples\n",
    "print(f\"Manual Accuracy: {accuracy * 100:.2f}%\")"
   ]
  },
  {
   "cell_type": "code",
   "execution_count": null,
   "id": "7c2ff05f",
   "metadata": {},
   "outputs": [],
   "source": [
    "#A4\n",
    "\n",
    "from sklearn import svm\n",
    "from sklearn.metrics import accuracy_score\n",
    "\n",
    "# Define a list of kernel functions to experiment with\n",
    "kernel_functions = ['linear', 'poly', 'rbf', 'sigmoid']\n",
    "\n",
    "# Create and evaluate SVM models for each kernel function\n",
    "for kernel in kernel_functions:\n",
    "    print(f\"Kernel Function: {kernel}\")\n",
    "    \n",
    "    # Create an instance of the SVM classifier with the specified kernel\n",
    "    clf = svm.SVC(kernel=kernel)\n",
    "    \n",
    "    # Train the SVM on the training data\n",
    "    clf.fit(X_train, y_train)\n",
    "    \n",
    "    # Predict class labels for the test set\n",
    "    predicted_labels = clf.predict(X_test)\n",
    "    \n",
    "    # Calculate accuracy\n",
    "    accuracy = accuracy_score(y_test, predicted_labels)\n",
    "    \n",
    "    print(f\"Accuracy: {accuracy * 100:.2f}%\\n\")"
   ]
  },
  {
   "cell_type": "code",
   "execution_count": null,
   "id": "ad6032ed",
   "metadata": {},
   "outputs": [],
   "source": []
  }
 ],
 "metadata": {
  "kernelspec": {
   "display_name": "Python 3 (ipykernel)",
   "language": "python",
   "name": "python3"
  },
  "language_info": {
   "codemirror_mode": {
    "name": "ipython",
    "version": 3
   },
   "file_extension": ".py",
   "mimetype": "text/x-python",
   "name": "python",
   "nbconvert_exporter": "python",
   "pygments_lexer": "ipython3",
   "version": "3.11.4"
  }
 },
 "nbformat": 4,
 "nbformat_minor": 5
}
